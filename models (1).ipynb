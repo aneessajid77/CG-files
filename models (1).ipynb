{
 "cells": [
  {
   "cell_type": "code",
   "execution_count": 1,
   "id": "582d4580",
   "metadata": {},
   "outputs": [
    {
     "name": "stdout",
     "output_type": "stream",
     "text": [
      "PlayerName    0\n",
      "Score         0\n",
      "dtype: int64\n"
     ]
    }
   ],
   "source": [
    "import pandas as pd\n",
    "\n",
    "# Load the dataset\n",
    "file_path = \"D:\\Chrome Downloads\\Endless-Runner-Game-master\\PlayerScores.csv\"\n",
    "df = pd.read_csv(file_path)\n",
    "\n",
    "# Check for missing values in the dataset\n",
    "print(df.isnull().sum())\n"
   ]
  },
  {
   "cell_type": "code",
   "execution_count": 2,
   "id": "b2b1febd",
   "metadata": {},
   "outputs": [
    {
     "name": "stdout",
     "output_type": "stream",
     "text": [
      "PlayerName    0\n",
      "Score         0\n",
      "dtype: int64\n"
     ]
    }
   ],
   "source": [
    "# Drop rows with missing values\n",
    "df.dropna(inplace=True)\n",
    "\n",
    "# Check if the missing values have been removed\n",
    "print(df.isnull().sum())\n"
   ]
  },
  {
   "cell_type": "code",
   "execution_count": 3,
   "id": "5c22656e",
   "metadata": {},
   "outputs": [
    {
     "name": "stdout",
     "output_type": "stream",
     "text": [
      "PlayerName    0\n",
      "Score         0\n",
      "dtype: int64\n"
     ]
    },
    {
     "name": "stderr",
     "output_type": "stream",
     "text": [
      "C:\\Users\\DELL\\AppData\\Local\\Temp\\ipykernel_31856\\785458565.py:2: FutureWarning: A value is trying to be set on a copy of a DataFrame or Series through chained assignment using an inplace method.\n",
      "The behavior will change in pandas 3.0. This inplace method will never work because the intermediate object on which we are setting values always behaves as a copy.\n",
      "\n",
      "For example, when doing 'df[col].method(value, inplace=True)', try using 'df.method({col: value}, inplace=True)' or df[col] = df[col].method(value) instead, to perform the operation inplace on the original object.\n",
      "\n",
      "\n",
      "  df['PlayerName'].fillna('Unknown', inplace=True)\n",
      "C:\\Users\\DELL\\AppData\\Local\\Temp\\ipykernel_31856\\785458565.py:5: FutureWarning: A value is trying to be set on a copy of a DataFrame or Series through chained assignment using an inplace method.\n",
      "The behavior will change in pandas 3.0. This inplace method will never work because the intermediate object on which we are setting values always behaves as a copy.\n",
      "\n",
      "For example, when doing 'df[col].method(value, inplace=True)', try using 'df.method({col: value}, inplace=True)' or df[col] = df[col].method(value) instead, to perform the operation inplace on the original object.\n",
      "\n",
      "\n",
      "  df['Score'].fillna(df['Score'].mean(), inplace=True)\n"
     ]
    }
   ],
   "source": [
    "# Fill missing values in 'PlayerName' with a placeholder (e.g., 'Unknown')\n",
    "df['PlayerName'].fillna('Unknown', inplace=True)\n",
    "\n",
    "# Fill missing values in 'Score' with the mean of the column\n",
    "df['Score'].fillna(df['Score'].mean(), inplace=True)\n",
    "\n",
    "# Check if the missing values have been handled\n",
    "print(df.isnull().sum())\n"
   ]
  },
  {
   "cell_type": "code",
   "execution_count": 6,
   "id": "0c5ee50b",
   "metadata": {},
   "outputs": [],
   "source": [
    "# Prepare features and target variable\n",
    "X = df[['PlayerName']]  # In this case, you might want to use categorical encoding\n",
    "y = df['Score']\n"
   ]
  },
  {
   "cell_type": "code",
   "execution_count": 7,
   "id": "e31cd81b-c40b-4a50-9bce-9023341dde9b",
   "metadata": {},
   "outputs": [
    {
     "name": "stdout",
     "output_type": "stream",
     "text": [
      "Collecting scikit-learnNote: you may need to restart the kernel to use updated packages.\n",
      "\n",
      "  Downloading scikit_learn-1.5.2-cp39-cp39-win_amd64.whl (11.0 MB)\n",
      "Collecting joblib>=1.2.0\n",
      "  Downloading joblib-1.4.2-py3-none-any.whl (301 kB)\n",
      "Requirement already satisfied: numpy>=1.19.5 in c:\\users\\dell\\appdata\\local\\programs\\python\\python39\\lib\\site-packages (from scikit-learn) (2.0.2)\n",
      "Collecting scipy>=1.6.0\n",
      "  Downloading scipy-1.13.1-cp39-cp39-win_amd64.whl (46.2 MB)\n",
      "Collecting threadpoolctl>=3.1.0\n",
      "  Downloading threadpoolctl-3.5.0-py3-none-any.whl (18 kB)\n",
      "Installing collected packages: joblib, scipy, threadpoolctl, scikit-learn\n",
      "Successfully installed joblib-1.4.2 scikit-learn-1.5.2 scipy-1.13.1 threadpoolctl-3.5.0\n"
     ]
    },
    {
     "name": "stderr",
     "output_type": "stream",
     "text": [
      "WARNING: You are using pip version 20.2.3; however, version 24.3.1 is available.\n",
      "You should consider upgrading via the 'c:\\users\\dell\\appdata\\local\\programs\\python\\python39\\python.exe -m pip install --upgrade pip' command.\n"
     ]
    }
   ],
   "source": [
    "pip install scikit-learn\n"
   ]
  },
  {
   "cell_type": "code",
   "execution_count": 8,
   "id": "08ee0295",
   "metadata": {},
   "outputs": [
    {
     "name": "stdout",
     "output_type": "stream",
     "text": [
      "   PlayerName\n",
      "0           0\n",
      "1           0\n",
      "2           0\n",
      "3           0\n",
      "4           0\n"
     ]
    },
    {
     "name": "stderr",
     "output_type": "stream",
     "text": [
      "C:\\Users\\DELL\\AppData\\Local\\Temp\\ipykernel_31856\\2178795560.py:5: SettingWithCopyWarning: \n",
      "A value is trying to be set on a copy of a slice from a DataFrame.\n",
      "Try using .loc[row_indexer,col_indexer] = value instead\n",
      "\n",
      "See the caveats in the documentation: https://pandas.pydata.org/pandas-docs/stable/user_guide/indexing.html#returning-a-view-versus-a-copy\n",
      "  X['PlayerName'] = le.fit_transform(X['PlayerName'])\n"
     ]
    }
   ],
   "source": [
    "from sklearn.preprocessing import LabelEncoder\n",
    "\n",
    "# Encode 'PlayerName' column to numeric values\n",
    "le = LabelEncoder()\n",
    "X['PlayerName'] = le.fit_transform(X['PlayerName'])\n",
    "\n",
    "# Check the encoding\n",
    "print(X.head())\n"
   ]
  },
  {
   "cell_type": "code",
   "execution_count": 9,
   "id": "2a7cba66",
   "metadata": {},
   "outputs": [],
   "source": [
    "from sklearn.model_selection import train_test_split\n",
    "\n",
    "# Split the dataset into training and testing sets\n",
    "X_train, X_test, y_train, y_test = train_test_split(X, y, test_size=0.2, random_state=42)\n"
   ]
  },
  {
   "cell_type": "code",
   "execution_count": 10,
   "id": "927b267e",
   "metadata": {},
   "outputs": [
    {
     "name": "stdout",
     "output_type": "stream",
     "text": [
      "Linear Regression - MAE: 64.32016895719423, MSE: 5362.59645845265, R^2: -0.0035517265952922372\n"
     ]
    }
   ],
   "source": [
    "from sklearn.linear_model import LinearRegression\n",
    "from sklearn.metrics import mean_absolute_error, mean_squared_error, r2_score\n",
    "\n",
    "# Initialize the model\n",
    "model = LinearRegression()\n",
    "\n",
    "# Train the model\n",
    "model.fit(X_train, y_train)\n",
    "\n",
    "# Make predictions\n",
    "y_pred = model.predict(X_test)\n",
    "\n",
    "# Evaluate the model\n",
    "mae = mean_absolute_error(y_test, y_pred)\n",
    "mse = mean_squared_error(y_test, y_pred)\n",
    "r2 = r2_score(y_test, y_pred)\n",
    "\n",
    "print(f\"Linear Regression - MAE: {mae}, MSE: {mse}, R^2: {r2}\")\n"
   ]
  },
  {
   "cell_type": "code",
   "execution_count": 11,
   "id": "b14d18e6",
   "metadata": {},
   "outputs": [
    {
     "name": "stdout",
     "output_type": "stream",
     "text": [
      "Random Forest - MAE: 64.33985419437467, MSE: 5365.1518819173425, R^2: -0.004029946362534398\n"
     ]
    }
   ],
   "source": [
    "from sklearn.ensemble import RandomForestRegressor\n",
    "\n",
    "# Initialize the model\n",
    "model = RandomForestRegressor(n_estimators=100, random_state=42)\n",
    "\n",
    "# Train the model\n",
    "model.fit(X_train, y_train)\n",
    "\n",
    "# Make predictions\n",
    "y_pred = model.predict(X_test)\n",
    "\n",
    "# Evaluate the model\n",
    "mae = mean_absolute_error(y_test, y_pred)\n",
    "mse = mean_squared_error(y_test, y_pred)\n",
    "r2 = r2_score(y_test, y_pred)\n",
    "\n",
    "print(f\"Random Forest - MAE: {mae}, MSE: {mse}, R^2: {r2}\")\n"
   ]
  },
  {
   "cell_type": "code",
   "execution_count": 10,
   "id": "b2c43570",
   "metadata": {},
   "outputs": [
    {
     "name": "stdout",
     "output_type": "stream",
     "text": [
      "Decision Tree - MAE: 60.43140324739274, MSE: 4876.371859296483, R^2: -0.00023720704481933197\n"
     ]
    }
   ],
   "source": [
    "from sklearn.tree import DecisionTreeRegressor\n",
    "\n",
    "# Initialize the model\n",
    "model = DecisionTreeRegressor(random_state=42)\n",
    "\n",
    "# Train the model\n",
    "model.fit(X_train, y_train)\n",
    "\n",
    "# Make predictions\n",
    "y_pred = model.predict(X_test)\n",
    "\n",
    "# Evaluate the model\n",
    "mae = mean_absolute_error(y_test, y_pred)\n",
    "mse = mean_squared_error(y_test, y_pred)\n",
    "r2 = r2_score(y_test, y_pred)\n",
    "\n",
    "print(f\"Decision Tree - MAE: {mae}, MSE: {mse}, R^2: {r2}\")\n"
   ]
  },
  {
   "cell_type": "code",
   "execution_count": 12,
   "id": "03f947e9",
   "metadata": {},
   "outputs": [
    {
     "name": "stdout",
     "output_type": "stream",
     "text": [
      "SVR - MAE: 65.02772277227723, MSE: 5475.730792079208, R^2: -0.024723589279306513\n"
     ]
    }
   ],
   "source": [
    "from sklearn.svm import SVR\n",
    "\n",
    "# Initialize the model\n",
    "model = SVR()\n",
    "\n",
    "# Train the model\n",
    "model.fit(X_train, y_train)\n",
    "\n",
    "# Make predictions\n",
    "y_pred = model.predict(X_test)\n",
    "\n",
    "# Evaluate the model\n",
    "mae = mean_absolute_error(y_test, y_pred)\n",
    "mse = mean_squared_error(y_test, y_pred)\n",
    "r2 = r2_score(y_test, y_pred)\n",
    "\n",
    "print(f\"SVR - MAE: {mae}, MSE: {mse}, R^2: {r2}\")\n"
   ]
  },
  {
   "cell_type": "code",
   "execution_count": 14,
   "id": "ebccbfb2",
   "metadata": {},
   "outputs": [
    {
     "name": "stdout",
     "output_type": "stream",
     "text": [
      "KNN - MAE: 67.32673267326733, MSE: 5988.475643564357, R^2: -0.1206782233819148\n"
     ]
    }
   ],
   "source": [
    "from sklearn.neighbors import KNeighborsRegressor\n",
    "\n",
    "# Initialize the model\n",
    "model = KNeighborsRegressor()\n",
    "\n",
    "# Train the model\n",
    "model.fit(X_train, y_train)\n",
    "\n",
    "# Make predictions\n",
    "y_pred = model.predict(X_test)\n",
    "\n",
    "# Evaluate the model\n",
    "mae = mean_absolute_error(y_test, y_pred)\n",
    "mse = mean_squared_error(y_test, y_pred)\n",
    "r2 = r2_score(y_test, y_pred)\n",
    "\n",
    "print(f\"KNN - MAE: {mae}, MSE: {mse}, R^2: {r2}\")\n"
   ]
  },
  {
   "cell_type": "code",
   "execution_count": 52,
   "id": "0851989c-b2d3-4d97-a4ac-809d297e1423",
   "metadata": {},
   "outputs": [
    {
     "name": "stdout",
     "output_type": "stream",
     "text": [
      "               Model     MAE      MSE      R^2\n",
      "0      Decision Tree  60.431  4876.37 -0.00024\n",
      "1                KNN  67.327  5988.48 -0.12068\n",
      "2  Linear Regression  64.320  5362.60 -0.00355\n",
      "3      Random Forest  64.340  5365.15 -0.00403\n",
      "4                SVR  65.028  5475.73 -0.02472\n"
     ]
    }
   ],
   "source": [
    "import pandas as pd\n",
    "\n",
    "# Data with your values\n",
    "data = {\n",
    "    \"Model\": [\"Decision Tree\", \"KNN\", \"Linear Regression\", \"Random Forest\", \"SVR\"],\n",
    "    \"MAE\": [60.431, 67.327, 64.320, 64.340, 65.028],\n",
    "    \"MSE\": [4876.37, 5988.48, 5362.60, 5365.15, 5475.73],\n",
    "    \"R^2\": [-0.00024, -0.12068, -0.00355, -0.00403, -0.02472]\n",
    "}\n",
    "\n",
    "# Create DataFrame\n",
    "df = pd.DataFrame(data)\n",
    "\n",
    "# Display Table\n",
    "print(df)\n",
    "\n",
    "# Save to CSV if needed\n",
    "df.to_csv(\"model_performance_comparison.csv\", index=False)"
   ]
  },
  {
   "cell_type": "code",
   "execution_count": 16,
   "id": "18cc65fc-aa90-4f6f-bce9-5e69669a5522",
   "metadata": {},
   "outputs": [
    {
     "name": "stdout",
     "output_type": "stream",
     "text": [
      "Model saved as decision_tree_model.pkl\n"
     ]
    }
   ],
   "source": [
    "import joblib\n",
    "from sklearn.tree import DecisionTreeClassifier  # Import DecisionTreeClassifier\n",
    "\n",
    "# Assuming you have a trained Decision Tree model (replace with your actual trained model)\n",
    "model = DecisionTreeClassifier(random_state=42)  # This is just a placeholder, replace with your trained model\n",
    "\n",
    "# Save the model to a .pkl file (joblib format)\n",
    "model_filename = 'decision_tree_model.pkl'\n",
    "joblib.dump(model, model_filename)\n",
    "\n",
    "print(f\"Model saved as {model_filename}\")\n"
   ]
  },
  {
   "cell_type": "code",
   "execution_count": 29,
   "id": "fc74952f-aca9-4557-bfdd-1057a4588eea",
   "metadata": {},
   "outputs": [
    {
     "name": "stdout",
     "output_type": "stream",
     "text": [
      "Model and Label Encoder saved successfully.\n"
     ]
    }
   ],
   "source": [
    "import pandas as pd\n",
    "from sklearn.tree import DecisionTreeClassifier\n",
    "from sklearn.model_selection import train_test_split\n",
    "import joblib\n",
    "\n",
    "# Load the dataset\n",
    "file_path = r\"D:\\Chrome Downloads\\Endless-Runner-Game-master\\PlayerScores.csv\"\n",
    "df = pd.read_csv(file_path)\n",
    "\n",
    "# Assuming you still want to predict based on 'Score' alone\n",
    "def categorize_player(row):\n",
    "    # Use 'Score' to categorize players (adjust thresholds as necessary)\n",
    "    if row['Score'] >= 30:\n",
    "        return 'advanced'\n",
    "    elif row['Score'] >= 15:\n",
    "        return 'intermediate'\n",
    "    else:\n",
    "        return 'beginner'\n",
    "\n",
    "# Create the 'Level' column based on 'Score' (no 'Movements' required)\n",
    "df['Level'] = df.apply(categorize_player, axis=1)\n",
    "\n",
    "# Features and target variable (only using 'Score' now)\n",
    "X = df[['Score']]\n",
    "y = df['Level']\n",
    "\n",
    "# Split the data into train and test sets\n",
    "X_train, X_test, y_train, y_test = train_test_split(X, y, test_size=0.2, random_state=42)\n",
    "\n",
    "# Initialize the model\n",
    "model = DecisionTreeClassifier(random_state=42)\n",
    "\n",
    "# Train the model\n",
    "model.fit(X_train, y_train)\n",
    "\n",
    "# Save the model\n",
    "model_filename = r\"C:\\Users\\DELL\\Downloads\\decision_tree_model.pkl\"\n",
    "joblib.dump(model, model_filename)\n",
    "\n",
    "# Optionally save the label encoder\n",
    "label_encoder = joblib.dump(LabelEncoder(), r'C:\\Users\\DELL\\Downloads\\label_encoder.pkl')\n",
    "\n",
    "print(\"Model and Label Encoder saved successfully.\")\n"
   ]
  },
  {
   "cell_type": "code",
   "execution_count": 32,
   "id": "b87b188d-40e3-4956-b630-1e56e71d1fc9",
   "metadata": {},
   "outputs": [
    {
     "name": "stdout",
     "output_type": "stream",
     "text": [
      "Model and Label Encoder saved successfully.\n"
     ]
    }
   ],
   "source": [
    "import pandas as pd\n",
    "from sklearn.tree import DecisionTreeClassifier\n",
    "from sklearn.model_selection import train_test_split\n",
    "from sklearn.preprocessing import LabelEncoder\n",
    "import joblib\n",
    "\n",
    "# Load the dataset\n",
    "file_path = r\"D:\\Chrome Downloads\\Endless-Runner-Game-master\\PlayerScores.csv\"\n",
    "df = pd.read_csv(file_path)\n",
    "\n",
    "# Categorize players based on their 'Score'\n",
    "def categorize_player(row):\n",
    "    if row['Score'] >= 30:\n",
    "        return 'advanced'\n",
    "    elif row['Score'] >= 15:\n",
    "        return 'intermediate'\n",
    "    else:\n",
    "        return 'beginner'\n",
    "\n",
    "df['Level'] = df.apply(categorize_player, axis=1)\n",
    "\n",
    "# Features and target variable\n",
    "X = df[['Score']]\n",
    "y = df['Level']\n",
    "\n",
    "# Encode the target labels using LabelEncoder\n",
    "label_encoder = LabelEncoder()\n",
    "y_encoded = label_encoder.fit_transform(y)\n",
    "\n",
    "# Split the data into train and test sets\n",
    "X_train, X_test, y_train, y_test = train_test_split(X, y_encoded, test_size=0.2, random_state=42)\n",
    "\n",
    "# Initialize and train the model\n",
    "model = DecisionTreeClassifier(random_state=42)\n",
    "model.fit(X_train, y_train)\n",
    "\n",
    "# Save the model and LabelEncoder\n",
    "model_filename = r\"C:\\Users\\DELL\\Downloads\\decision_tree_model.pkl\"\n",
    "joblib.dump(model, model_filename)\n",
    "\n",
    "label_encoder_filename = r\"C:\\Users\\DELL\\Downloads\\label_encoder.pkl\"\n",
    "joblib.dump(label_encoder, label_encoder_filename)\n",
    "\n",
    "print(\"Model and Label Encoder saved successfully.\")\n"
   ]
  },
  {
   "cell_type": "code",
   "execution_count": 51,
   "id": "db43a73f-6d44-434a-86bc-9b6f044ca58a",
   "metadata": {},
   "outputs": [
    {
     "name": "stdout",
     "output_type": "stream",
     "text": [
      "Index(['PlayerName', 'Score'], dtype='object')\n",
      "  PlayerName  Score\n",
      "0      Guest      6\n",
      "1      Guest      9\n",
      "2      Guest     24\n",
      "3      Guest      0\n",
      "4      Guest      0\n"
     ]
    },
    {
     "name": "stdin",
     "output_type": "stream",
     "text": [
      "Enter your score:  90\n"
     ]
    },
    {
     "name": "stdout",
     "output_type": "stream",
     "text": [
      "Your rank is: 604 out of 1008 players\n",
      "Your predicted level is: advanced\n"
     ]
    },
    {
     "name": "stderr",
     "output_type": "stream",
     "text": [
      "c:\\users\\dell\\appdata\\local\\programs\\python\\python39\\lib\\site-packages\\sklearn\\base.py:493: UserWarning: X does not have valid feature names, but DecisionTreeClassifier was fitted with feature names\n",
      "  warnings.warn(\n"
     ]
    }
   ],
   "source": [
    "import pandas as pd\n",
    "import joblib\n",
    "\n",
    "# Load the saved model\n",
    "model_filename = r\"C:\\Users\\DELL\\Downloads\\decision_tree_model.pkl\"\n",
    "model = joblib.load(model_filename)\n",
    "\n",
    "# Load the dataset\n",
    "file_path = r\"D:\\Chrome Downloads\\Endless-Runner-Game-master\\PlayerScores.csv\"\n",
    "df = pd.read_csv(file_path)\n",
    "\n",
    "# Print the column names to verify the 'Score' column exists\n",
    "print(df.columns)\n",
    "\n",
    "# Check the first few rows to see the structure of the data\n",
    "print(df.head())\n",
    "\n",
    "# If the 'Score' column exists, proceed with ranking logic\n",
    "if 'Score' in df.columns:\n",
    "    # Sort the dataset by the score in descending order to rank players\n",
    "    df_sorted = df.sort_values(by='Score', ascending=False)\n",
    "\n",
    "    # Ensure valid user score input\n",
    "    while True:\n",
    "        try:\n",
    "            user_score = float(input(\"Enter your score: \"))\n",
    "            break  # Exit loop if valid score is provided\n",
    "        except ValueError:\n",
    "            print(\"Please enter a valid numeric value for the score.\")\n",
    "\n",
    "    # Find the rank of the user by comparing their score with the dataset\n",
    "    rank = (df_sorted['Score'] >= user_score).sum() + 1  # The rank is the number of scores greater than or equal to the user's score + 1\n",
    "\n",
    "    # Output the rank and comparison\n",
    "    print(f\"Your rank is: {rank} out of {len(df)} players\")\n",
    "\n",
    "    # Optional: Predict the level of the user using the model (e.g., beginner, intermediate)\n",
    "    # Predict the level based only on the 'Score' column now (no 'movements' input)\n",
    "    predicted_level = model.predict([[user_score]])\n",
    "\n",
    "    # Decode the predicted level if needed (e.g., 'beginner', 'intermediate')\n",
    "    label_encoder = joblib.load(r'C:\\Users\\DELL\\Downloads\\label_encoder.pkl')\n",
    "    predicted_level_str = label_encoder.inverse_transform(predicted_level)\n",
    "\n",
    "    # Print the predicted level\n",
    "    print(f\"Your predicted level is: {predicted_level_str[0]}\")\n",
    "else:\n",
    "    print(\"The dataset does not contain a 'Score' column.\")\n"
   ]
  }
 ],
 "metadata": {
  "kernelspec": {
   "display_name": "Python 3 (ipykernel)",
   "language": "python",
   "name": "python3"
  },
  "language_info": {
   "codemirror_mode": {
    "name": "ipython",
    "version": 3
   },
   "file_extension": ".py",
   "mimetype": "text/x-python",
   "name": "python",
   "nbconvert_exporter": "python",
   "pygments_lexer": "ipython3",
   "version": "3.9.0"
  }
 },
 "nbformat": 4,
 "nbformat_minor": 5
}
